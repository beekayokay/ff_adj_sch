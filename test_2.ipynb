{
 "cells": [
  {
   "cell_type": "code",
   "execution_count": null,
   "metadata": {},
   "outputs": [],
   "source": [
    "import requests\n",
    "from bs4 import BeautifulSoup\n",
    "import pandas as pd\n",
    "from io import StringIO\n",
    "import time\n",
    "import random\n",
    "import os\n",
    "from dotenv import load_dotenv, dotenv_values"
   ]
  },
  {
   "cell_type": "code",
   "execution_count": null,
   "metadata": {},
   "outputs": [],
   "source": [
    "team = 'ARI'\n",
    "year = '2023'\n",
    "URL = f'https://www.footballguys.com/stats/game-logs-against/teams?team={team}&year={year}'"
   ]
  },
  {
   "cell_type": "code",
   "execution_count": null,
   "metadata": {},
   "outputs": [],
   "source": [
    "r = requests.get(URL)\n",
    "soup = BeautifulSoup(r.content, 'lxml')"
   ]
  },
  {
   "cell_type": "code",
   "execution_count": null,
   "metadata": {},
   "outputs": [],
   "source": [
    "teams_raw = soup.find('select',{'class':'big-select'})\n",
    "teams_options = teams_raw.find_all('option')\n",
    "teams = []\n",
    "for team in teams_options:\n",
    "    teams.append(team['value'])"
   ]
  },
  {
   "cell_type": "code",
   "execution_count": null,
   "metadata": {},
   "outputs": [],
   "source": [
    "tables = soup.find_all('table',{'class':'table sortable-table'})\n",
    "df = pd.read_html(StringIO(str(tables[0])))[0]\n",
    "df = df[0:0]"
   ]
  },
  {
   "cell_type": "code",
   "execution_count": null,
   "metadata": {},
   "outputs": [],
   "source": [
    "def table_parser(df, team, year):\n",
    "    URL = f'https://www.footballguys.com/stats/game-logs-against/teams?team={team}&year={year}'\n",
    "    r = requests.get(URL)\n",
    "    soup = BeautifulSoup(r.content, 'lxml')\n",
    "    tables = soup.find_all('table',{'class':'table sortable-table'})\n",
    "    temp_df = pd.read_html(StringIO(str(tables[0])))[0]\n",
    "    temp_df['pos'] = 'qb'\n",
    "    temp_df['opp'] = team\n",
    "    df = pd.concat([df, temp_df])\n",
    "    temp_df = pd.read_html(StringIO(str(tables[1])))[0]\n",
    "    temp_df['pos'] = 'rb'\n",
    "    temp_df['opp'] = team\n",
    "    df = pd.concat([df, temp_df])\n",
    "    temp_df = pd.read_html(StringIO(str(tables[2])))[0]\n",
    "    temp_df['pos'] = 'wr'\n",
    "    temp_df['opp'] = team\n",
    "    df = pd.concat([df, temp_df])\n",
    "    temp_df = pd.read_html(StringIO(str(tables[3])))[0]\n",
    "    temp_df['pos'] = 'te'\n",
    "    temp_df['opp'] = team\n",
    "    df = pd.concat([df, temp_df])\n",
    "    return df"
   ]
  },
  {
   "cell_type": "code",
   "execution_count": null,
   "metadata": {},
   "outputs": [],
   "source": [
    "for team in teams:\n",
    "    df = table_parser(df, team, year)\n",
    "    time.sleep(random.uniform(2,5))"
   ]
  },
  {
   "cell_type": "code",
   "execution_count": null,
   "metadata": {},
   "outputs": [],
   "source": [
    "df['team-pos'] = df['team'] + '-' + df['pos']\n",
    "df['name-pos-team'] = df['name'] + '-' + df['pos'] + '-' + df['team']"
   ]
  },
  {
   "cell_type": "code",
   "execution_count": null,
   "metadata": {},
   "outputs": [],
   "source": [
    "df_sum_teampos = df.copy().drop(columns=['name'])\n",
    "df_sum_teampos = df_sum_teampos.groupby(by=['name-pos-team', 'team', 'pos', 'week', 'opp', 'team-pos']).sum()\n",
    "df_sum_teampos = df_sum_teampos.reset_index()\n",
    "df_sum_teampos.head(5)"
   ]
  },
  {
   "cell_type": "code",
   "execution_count": null,
   "metadata": {},
   "outputs": [],
   "source": [
    "df_avg_teampos = df_sum_teampos.copy().drop(columns=['opp', 'week'])\n",
    "df_avg_teampos = df_avg_teampos.groupby(by=['name-pos-team', 'team', 'pos', 'team-pos']).mean()\n",
    "df_avg_teampos = df_avg_teampos.reset_index()\n",
    "df_avg_teampos.head(5)"
   ]
  },
  {
   "cell_type": "code",
   "execution_count": null,
   "metadata": {},
   "outputs": [],
   "source": [
    "df_strength_merge = pd.merge(df_sum_teampos, df_avg_teampos, on=['name-pos-team'], how='left')\n",
    "df_strength_merge.head()"
   ]
  },
  {
   "cell_type": "code",
   "execution_count": null,
   "metadata": {},
   "outputs": [],
   "source": [
    "df_strength_raw = pd.DataFrame()\n",
    "df_strength_raw['name-pos-team'] = df_strength_merge['name-pos-team']\n",
    "df_strength_raw['opp'] = df_strength_merge['opp']\n",
    "df_strength_raw['pos'] = df_strength_merge['pos_x']\n",
    "df_strength_raw['team'] = df_strength_merge['team_x']\n",
    "df_strength_raw['week'] = df_strength_merge['week']\n",
    "df_strength_raw['att'] = df_strength_merge['att_x'] - df_strength_merge['att_y']\n",
    "df_strength_raw['cmp'] = df_strength_merge['cmp_x'] - df_strength_merge['cmp_y']\n",
    "df_strength_raw['pyd'] = df_strength_merge['pyd_x'] - df_strength_merge['pyd_y']\n",
    "df_strength_raw['ptd'] = df_strength_merge['ptd_x'] - df_strength_merge['ptd_y']\n",
    "df_strength_raw['int'] = df_strength_merge['int_x'] - df_strength_merge['int_y']\n",
    "df_strength_raw['rsh'] = df_strength_merge['rsh_x'] - df_strength_merge['rsh_y']\n",
    "df_strength_raw['rshyd'] = df_strength_merge['rshyd_x'] - df_strength_merge['rshyd_y']\n",
    "df_strength_raw['rshtd'] = df_strength_merge['rshtd_x'] - df_strength_merge['rshtd_y']\n",
    "df_strength_raw['targ'] = df_strength_merge['targ_x'] - df_strength_merge['targ_y']\n",
    "df_strength_raw['rec'] = df_strength_merge['rec_x'] - df_strength_merge['rec_y']\n",
    "df_strength_raw['recyd'] = df_strength_merge['recyd_x'] - df_strength_merge['recyd_y']\n",
    "df_strength_raw['rectd'] = df_strength_merge['rectd_x'] - df_strength_merge['rectd_y']\n",
    "df_strength_raw.head()"
   ]
  },
  {
   "cell_type": "code",
   "execution_count": null,
   "metadata": {},
   "outputs": [],
   "source": [
    "df_strength_sum = df_strength_raw.copy().drop(columns=['name-pos-team'])\n",
    "df_strength_sum = df_strength_sum.groupby(by=['opp', 'pos', 'team', 'week']).sum()\n",
    "df_strength_sum = df_strength_sum.reset_index()\n",
    "df_strength_sum.head(5)"
   ]
  },
  {
   "cell_type": "code",
   "execution_count": null,
   "metadata": {},
   "outputs": [],
   "source": [
    "df_strength = df_strength_sum.copy().drop(columns=['team', 'week'])\n",
    "df_strength = df_strength.groupby(by=['opp', 'pos']).mean()\n",
    "df_strength = df_strength.reset_index()\n",
    "df_strength['fpts'] = (df_strength['pyd'] * 0.04) + (df_strength['ptd'] * 5) + (df_strength['int'] * -2) + (df_strength['rshyd'] * 0.1) + (df_strength['rshtd'] * 6) + (df_strength['rec'] * 0.5) + (df_strength['recyd'] * 0.1) + (df_strength['rectd'] * 6)\n",
    "df_strength.head()"
   ]
  },
  {
   "cell_type": "code",
   "execution_count": null,
   "metadata": {},
   "outputs": [],
   "source": [
    "load_dotenv()\n",
    "df_strength.to_csv(f'{os.getenv('FILES_DIR')}/df_strength_2.csv')"
   ]
  }
 ],
 "metadata": {
  "kernelspec": {
   "display_name": "ff_adj_sch",
   "language": "python",
   "name": "python3"
  },
  "language_info": {
   "codemirror_mode": {
    "name": "ipython",
    "version": 3
   },
   "file_extension": ".py",
   "mimetype": "text/x-python",
   "name": "python",
   "nbconvert_exporter": "python",
   "pygments_lexer": "ipython3",
   "version": "3.12.0"
  }
 },
 "nbformat": 4,
 "nbformat_minor": 2
}
